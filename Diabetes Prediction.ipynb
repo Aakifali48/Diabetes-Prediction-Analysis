{
  "nbformat": 4,
  "nbformat_minor": 0,
  "metadata": {
    "colab": {
      "name": "Untitled12.ipynb",
      "provenance": []
    },
    "kernelspec": {
      "name": "python3",
      "display_name": "Python 3"
    }
  },
  "cells": [
    {
      "cell_type": "code",
      "metadata": {
        "id": "pCQ2-luIH8qq"
      },
      "source": [
        "# Importing the libraries\n",
        "import numpy as np\n",
        "import matplotlib.pyplot as plt\n",
        "import pandas as pd\n",
        "from sklearn.metrics import accuracy_score\n",
        "\n",
        "\n",
        "# Importing the dataset\n",
        "df = pd.read_csv('diabetes_csv.csv')\n",
        "df.replace('?',-99999,inplace=True)\n",
        "df.drop(['pedi'],1,inplace=True)\n",
        "\n",
        "X=np.array(df.drop(['class'],1))\n",
        "y=np.array(df['class'])\n",
        "\n",
        "from sklearn.model_selection import train_test_split\n",
        "X_train, X_test, y_train, y_test = train_test_split(X, y, test_size = 0.1, random_state = 42)\n",
        "\n",
        "# Feature Scaling\n",
        "from sklearn.preprocessing import StandardScaler\n",
        "sc = StandardScaler()\n",
        "X_train = sc.fit_transform(X_train)\n",
        "X_test = sc.transform(X_test)\n",
        "\n",
        "from sklearn.decomposition import PCA\n",
        "pca = PCA(n_components=2)\n",
        "X_train = pca.fit_transform(X_train)\n",
        "X_test = pca.fit_transform(X_test)\n",
        "explained_variance=pca.explained_variance_ratio_\n"
      ],
      "execution_count": null,
      "outputs": []
    },
    {
      "cell_type": "code",
      "metadata": {
        "id": "BUC2GXPRLZY_",
        "colab": {
          "base_uri": "https://localhost:8080/",
          "height": 33
        },
        "outputId": "fbe450be-ee9b-4bf9-8599-7257ef0ebc38"
      },
      "source": [
        "# Fitting Logistic Regression to the Training set\n",
        "from sklearn.linear_model import LogisticRegression\n",
        "lr = LogisticRegression(solver=\"lbfgs\")\n",
        "lr.fit(X_train,y_train)\n",
        "print(\"Test Accuracy: {}%\".format(round(lr.score(X_test,y_test)*100,2)))"
      ],
      "execution_count": null,
      "outputs": [
        {
          "output_type": "stream",
          "text": [
            "Test Accuracy: 70.13%\n"
          ],
          "name": "stdout"
        }
      ]
    },
    {
      "cell_type": "code",
      "metadata": {
        "id": "24hXZhpJMMp8",
        "colab": {
          "base_uri": "https://localhost:8080/",
          "height": 1000
        },
        "outputId": "906e8071-8ee3-411c-d4e9-5007d9c84d35"
      },
      "source": [
        "# Fitting KNN to the Training set\n",
        "\n",
        "from sklearn.neighbors import KNeighborsClassifier\n",
        "knn = []\n",
        "for i in range(21,42):\n",
        "            \n",
        "    classifier = KNeighborsClassifier(n_neighbors=i)\n",
        "    trained_model=classifier.fit(X_train,y_train)\n",
        "    trained_model.fit(X_train,y_train )\n",
        "    \n",
        "    # Predicting the Test set results\n",
        "    \n",
        "    y_pred = classifier.predict(X_test)\n",
        "    \n",
        "    # Making the Confusion Matrix\n",
        "    \n",
        "    from sklearn.metrics import confusion_matrix\n",
        "    \n",
        "    cm_KNN = confusion_matrix(y_test, y_pred)\n",
        "    print(cm_KNN)\n",
        "    print(\"Accuracy score of train KNN\")\n",
        "    print(accuracy_score(y_train, trained_model.predict(X_train))*100)\n",
        "    \n",
        "    print(\"Accuracy score of test KNN\")\n",
        "    print(accuracy_score(y_test, y_pred)*100)\n",
        "    \n",
        "    knn.append(accuracy_score(y_test, y_pred)*100)\n",
        "    \n",
        "plt.figure(figsize=(12, 6))  \n",
        "plt.plot(range(21, 42),knn, color='red', linestyle='dashed', marker='o',  \n",
        "             markerfacecolor='blue', markersize=10)\n",
        "plt.title('Accuracy for different  K Value')  \n",
        "plt.xlabel('K Value')  \n",
        "plt.ylabel('Accuracy') "
      ],
      "execution_count": null,
      "outputs": [
        {
          "output_type": "stream",
          "text": [
            "[[40 10]\n",
            " [11 16]]\n",
            "Accuracy score of train KNN\n",
            "73.22720694645442\n",
            "Accuracy score of test KNN\n",
            "72.72727272727273\n",
            "[[40 10]\n",
            " [14 13]]\n",
            "Accuracy score of train KNN\n",
            "73.22720694645442\n",
            "Accuracy score of test KNN\n",
            "68.83116883116884\n",
            "[[39 11]\n",
            " [13 14]]\n",
            "Accuracy score of train KNN\n",
            "73.66136034732273\n",
            "Accuracy score of test KNN\n",
            "68.83116883116884\n",
            "[[39 11]\n",
            " [14 13]]\n",
            "Accuracy score of train KNN\n",
            "73.22720694645442\n",
            "Accuracy score of test KNN\n",
            "67.53246753246754\n",
            "[[39 11]\n",
            " [12 15]]\n",
            "Accuracy score of train KNN\n",
            "73.9507959479016\n",
            "Accuracy score of test KNN\n",
            "70.12987012987013\n",
            "[[39 11]\n",
            " [12 15]]\n",
            "Accuracy score of train KNN\n",
            "73.66136034732273\n",
            "Accuracy score of test KNN\n",
            "70.12987012987013\n",
            "[[38 12]\n",
            " [11 16]]\n",
            "Accuracy score of train KNN\n",
            "74.52966714905934\n",
            "Accuracy score of test KNN\n",
            "70.12987012987013\n",
            "[[38 12]\n",
            " [12 15]]\n",
            "Accuracy score of train KNN\n",
            "74.09551374819102\n",
            "Accuracy score of test KNN\n",
            "68.83116883116884\n",
            "[[38 12]\n",
            " [11 16]]\n",
            "Accuracy score of train KNN\n",
            "74.67438494934878\n",
            "Accuracy score of test KNN\n",
            "70.12987012987013\n",
            "[[38 12]\n",
            " [12 15]]\n",
            "Accuracy score of train KNN\n",
            "73.9507959479016\n",
            "Accuracy score of test KNN\n",
            "68.83116883116884\n",
            "[[38 12]\n",
            " [11 16]]\n",
            "Accuracy score of train KNN\n",
            "74.67438494934878\n",
            "Accuracy score of test KNN\n",
            "70.12987012987013\n",
            "[[38 12]\n",
            " [11 16]]\n",
            "Accuracy score of train KNN\n",
            "73.66136034732273\n",
            "Accuracy score of test KNN\n",
            "70.12987012987013\n",
            "[[37 13]\n",
            " [11 16]]\n",
            "Accuracy score of train KNN\n",
            "74.24023154848047\n",
            "Accuracy score of test KNN\n",
            "68.83116883116884\n",
            "[[38 12]\n",
            " [12 15]]\n",
            "Accuracy score of train KNN\n",
            "74.67438494934878\n",
            "Accuracy score of test KNN\n",
            "68.83116883116884\n",
            "[[35 15]\n",
            " [11 16]]\n",
            "Accuracy score of train KNN\n",
            "74.52966714905934\n",
            "Accuracy score of test KNN\n",
            "66.23376623376623\n",
            "[[36 14]\n",
            " [13 14]]\n",
            "Accuracy score of train KNN\n",
            "74.67438494934878\n",
            "Accuracy score of test KNN\n",
            "64.93506493506493\n",
            "[[35 15]\n",
            " [12 15]]\n",
            "Accuracy score of train KNN\n",
            "74.24023154848047\n",
            "Accuracy score of test KNN\n",
            "64.93506493506493\n",
            "[[36 14]\n",
            " [13 14]]\n",
            "Accuracy score of train KNN\n",
            "74.09551374819102\n",
            "Accuracy score of test KNN\n",
            "64.93506493506493\n",
            "[[36 14]\n",
            " [11 16]]\n",
            "Accuracy score of train KNN\n",
            "74.38494934876991\n",
            "Accuracy score of test KNN\n",
            "67.53246753246754\n",
            "[[38 12]\n",
            " [13 14]]\n",
            "Accuracy score of train KNN\n",
            "73.37192474674384\n",
            "Accuracy score of test KNN\n",
            "67.53246753246754\n",
            "[[37 13]\n",
            " [11 16]]\n",
            "Accuracy score of train KNN\n",
            "74.67438494934878\n",
            "Accuracy score of test KNN\n",
            "68.83116883116884\n"
          ],
          "name": "stdout"
        },
        {
          "output_type": "execute_result",
          "data": {
            "text/plain": [
              "Text(0, 0.5, 'Accuracy')"
            ]
          },
          "metadata": {
            "tags": []
          },
          "execution_count": 34
        },
        {
          "output_type": "display_data",
          "data": {
            "image/png": "[encoded data removed]",
            "text/plain": [
              "<Figure size 864x432 with 1 Axes>"
            ]
          },
          "metadata": {
            "tags": [],
            "needs_background": "light"
          }
        }
      ]
    },
    {
      "cell_type": "code",
      "metadata": {
        "id": "cCJTofR0M-Qy",
        "colab": {
          "base_uri": "https://localhost:8080/",
          "height": 119
        },
        "outputId": "04d78b51-f053-4193-8f43-162732f45a31"
      },
      "source": [
        "# Fitting SVM to the Training set\n",
        "\n",
        "from sklearn.svm import SVC\n",
        "classifier = SVC(kernel = 'linear', random_state = 0)\n",
        "\n",
        "trained_model=classifier.fit(X_train,y_train)\n",
        "trained_model.fit(X_train,y_train )\n",
        "\n",
        "\n",
        "# Predicting the Test set results\n",
        "\n",
        "y_pred = classifier.predict(X_test)\n",
        "\n",
        "# Making the Confusion Matrix\n",
        "\n",
        "from sklearn.metrics import confusion_matrix\n",
        "cm_SVM = confusion_matrix(y_test, y_pred)\n",
        "print(cm_SVM)\n",
        "print(\"Accuracy score of train SVM\")\n",
        "print(accuracy_score(y_train, trained_model.predict(X_train))*100)\n",
        "\n",
        "print(\"Accuracy score of test SVM\")\n",
        "print(accuracy_score(y_test, y_pred)*100)\n"
      ],
      "execution_count": null,
      "outputs": [
        {
          "output_type": "stream",
          "text": [
            "[[43  7]\n",
            " [14 13]]\n",
            "Accuracy score of train SVM\n",
            "71.49059334298119\n",
            "Accuracy score of test SVM\n",
            "72.72727272727273\n"
          ],
          "name": "stdout"
        }
      ]
    },
    {
      "cell_type": "code",
      "metadata": {
        "id": "lbbRvrhvNEN9",
        "colab": {
          "base_uri": "https://localhost:8080/",
          "height": 34
        },
        "outputId": "532681f8-7689-4383-be37-c1114d770523"
      },
      "source": [
        "#Decision Tree\n",
        "from sklearn.tree import DecisionTreeClassifier\n",
        "dt = DecisionTreeClassifier()\n",
        "dt.fit(X_train,y_train)\n",
        "print(\"Test Accuracy: {}%\".format(round(dt.score(X_test,y_test)*100,2)))\n",
        "\n",
        "\n"
      ],
      "execution_count": null,
      "outputs": [
        {
          "output_type": "stream",
          "text": [
            "Test Accuracy: 55.84%\n"
          ],
          "name": "stdout"
        }
      ]
    },
    {
      "cell_type": "code",
      "metadata": {
        "id": "l2Hht6BpNLX2",
        "colab": {
          "base_uri": "https://localhost:8080/",
          "height": 34
        },
        "outputId": "4485d96a-d8bd-4d23-ee15-30a6993b3f4b"
      },
      "source": [
        "#Naive Bayes Classification\n",
        "from sklearn.naive_bayes import GaussianNB\n",
        "nb = GaussianNB()\n",
        "nb.fit(X_train,y_train)\n",
        "print(\"Test Accuracy: {}%\".format(round(nb.score(X_test,y_test)*100,2)))"
      ],
      "execution_count": null,
      "outputs": [
        {
          "output_type": "stream",
          "text": [
            "Test Accuracy: 70.13%\n"
          ],
          "name": "stdout"
        }
      ]
    },
    {
      "cell_type": "code",
      "metadata": {
        "id": "l6FUnXHkNSVw",
        "colab": {
          "base_uri": "https://localhost:8080/",
          "height": 34
        },
        "outputId": "44249217-25a8-45d7-df7a-2f3b92a8396d"
      },
      "source": [
        "#Regression Classification\n",
        "from sklearn.linear_model import LogisticRegression\n",
        "lr = LogisticRegression(solver=\"lbfgs\")\n",
        "lr.fit(X_train,y_train)\n",
        "print(\"Test Accuracy: {}%\".format(round(lr.score(X_test,y_test)*100,2)))"
      ],
      "execution_count": null,
      "outputs": [
        {
          "output_type": "stream",
          "text": [
            "Test Accuracy: 70.13%\n"
          ],
          "name": "stdout"
        }
      ]
    },
    {
      "cell_type": "code",
      "metadata": {
        "id": "FabaUKRYRjZO"
      },
      "source": [
        "\n"
      ],
      "execution_count": null,
      "outputs": []
    }
  ]
}